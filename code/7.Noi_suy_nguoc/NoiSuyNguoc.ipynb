{
 "cells": [
  {
   "cell_type": "code",
   "execution_count": 17,
   "metadata": {},
   "outputs": [],
   "source": [
    "import pandas as pd\n",
    "import numpy as np\n",
    "import math"
   ]
  },
  {
   "cell_type": "code",
   "execution_count": 18,
   "metadata": {},
   "outputs": [],
   "source": [
    "def doc_input (ten_file):\n",
    "    #tra ve gia tri cua x va y tu file input.txt\n",
    "    # doc file input.txt\n",
    "    inp = open(ten_file, \"r\")\n",
    "    # doc du lieu cua x va y\n",
    "    x = inp.readline()\n",
    "    y = inp.readline()\n",
    "    # xu ly du lieu cua x va y\n",
    "    x = x.strip().split()\n",
    "    x = np.array(x, dtype=float)\n",
    "    if (y == \"\"):\n",
    "        y = f(x)\n",
    "        y = np.array(y, dtype=float)\n",
    "        inp.close()\n",
    "    else:\n",
    "        y = y.strip().split()\n",
    "        y = np.array(y, dtype=float)\n",
    "        inp.close()\n",
    "    return x, y\n",
    "    \n",
    "def cacKhoangDonDieuChuaNghiem(x, y, y_):\n",
    "    listInvervals = []\n",
    "    iStart = 0\n",
    "    iStop = 0\n",
    "    for i in range(1, len(x) - 1):\n",
    "        sign = np.sign(y[i] - y[i - 1])\n",
    "        if sign != np.sign(y[i + 1] - y[i]):\n",
    "            iStop = i\n",
    "            listInvervals.append([x[iStart:iStop + 1], y[iStart:iStop + 1]])\n",
    "            iStart = iStop\n",
    "    listInvervals.append([x[iStart:len(x)], y[iStart:len(y)]])\n",
    "    listResult = []\n",
    "    for i in listInvervals:\n",
    "        if y_ > min(i[1]) and y_ < max(i[1]):\n",
    "            listResult.append([i[0], i[1]])\n",
    "    return listResult"
   ]
  },
  {
   "cell_type": "markdown",
   "metadata": {},
   "source": [
    "# Phương pháp hàm ngược"
   ]
  },
  {
   "cell_type": "code",
   "execution_count": 19,
   "metadata": {},
   "outputs": [],
   "source": [
    "def hoocnerNhan(x):\n",
    "    a = [1, -x[0]]\n",
    "    for i in range(1, len(x)):\n",
    "        a.append(0)\n",
    "        temp = a.copy()\n",
    "        for j in range(1, len(a)):\n",
    "            a[j] = temp[j] - temp[j - 1] * x[i]\n",
    "        a[0] = 1\n",
    "    return a\n",
    "    \n",
    "def hoocnerChia(a, value):\n",
    "    b = [a[0]]\n",
    "    for i in range(1, len(a)):\n",
    "        b.append(a[i] + b[i - 1] * value)\n",
    "    return b\n",
    "\n",
    "def noiSuyLagrange(x, y):\n",
    "    a = np.zeros(len(x))\n",
    "    phi = hoocnerNhan(x)\n",
    "    for i in range(len(x)):\n",
    "        omega = hoocnerChia(phi, x[i])\n",
    "        omega.pop()\n",
    "        k = y[i]/hoocnerChia(omega, x[i]).pop()\n",
    "        for j in range(len(a)):\n",
    "            a[j] += k * omega[j]\n",
    "    return a.tolist()\n",
    "\n",
    "def hamNguoc(x, y, y_):\n",
    "    return hoocnerChia(noiSuyLagrange(y, x), y_).pop()"
   ]
  },
  {
   "cell_type": "markdown",
   "metadata": {},
   "source": [
    "# Phương pháp lặp Newton "
   ]
  },
  {
   "cell_type": "markdown",
   "metadata": {},
   "source": [
    "## Phương pháp Newton tiến và Newton lùi cho lặp Newton"
   ]
  },
  {
   "cell_type": "code",
   "execution_count": 20,
   "metadata": {},
   "outputs": [],
   "source": [
    "def hoocnerNhanBoSung(coeffTich, t):\n",
    "    if len(coeffTich) == 0:\n",
    "        coeffTich.append(1)\n",
    "        coeffTich.append(-t)\n",
    "    else:\n",
    "        coeffTich.append(0)\n",
    "        temp = coeffTich.copy()\n",
    "        for i in range(1, len(coeffTich)):\n",
    "            coeffTich[i] = coeffTich[i] - t * temp[i - 1]\n",
    "    return coeffTich\n",
    "\n",
    "# Nội suy Newton tiến\n",
    "def saiPhanTien(delta, yk):\n",
    "    temp = delta.copy()\n",
    "    delta.append(0)\n",
    "    delta[0] = yk\n",
    "    for i in range(1, len(delta)):\n",
    "        delta[i] = delta[i - 1] - temp[i - 1]\n",
    "    return delta  \n",
    "\n",
    "def ns_NewtonTien(x, y):\n",
    "    a = [y[0]]\n",
    "    delta = [y[0]]\n",
    "    coeffTich = []\n",
    "    giaiThua_k = 1\n",
    "    for i in range(1, len(x)):\n",
    "        delta = saiPhanTien(delta, y[i])\n",
    "        coeffTich = hoocnerNhanBoSung(coeffTich, i - 1)    \n",
    "        giaiThua_k *= i\n",
    "        c = delta[len(delta) - 1]/ giaiThua_k\n",
    "        a_1 = a.copy()\n",
    "        a.append(0)\n",
    "        for j in range(1, len(a)):\n",
    "            a[j] = a_1[j - 1] + c * coeffTich[j]\n",
    "        a[0] = c\n",
    "    return a\n",
    "\n",
    "# Nội suy Newton lùi\n",
    "def saiPhanLui(lamda, yk):\n",
    "    temp = lamda.copy()\n",
    "    lamda.append(0)\n",
    "    lamda[0] = yk\n",
    "    for i in range(1, len(lamda)):\n",
    "        lamda[i] = temp[i - 1] - lamda[i - 1]\n",
    "    return lamda\n",
    "\n",
    "def ns_NewtonLui(x, y):\n",
    "    a = [y[len(y) - 1]]\n",
    "    lamda = [y[len(y) - 1]]\n",
    "    coeffTich = []\n",
    "    giaiThua_k = 1\n",
    "    for i in range(1, len(x)):\n",
    "        lamda = saiPhanLui(lamda, y[len(y) - 1 - i])\n",
    "        coeffTich = hoocnerNhanBoSung(coeffTich, 1 - i)    \n",
    "        giaiThua_k *= i\n",
    "        c = lamda[len(lamda) - 1]/ giaiThua_k\n",
    "        a_1 = a.copy()\n",
    "        a.append(0)\n",
    "        for j in range(1, len(a)):\n",
    "            a[j] = a_1[j - 1] + c * coeffTich[j]\n",
    "        a[0] = c\n",
    "    return a"
   ]
  },
  {
   "cell_type": "markdown",
   "metadata": {},
   "source": [
    "## Lặp Newton"
   ]
  },
  {
   "cell_type": "code",
   "execution_count": 21,
   "metadata": {},
   "outputs": [],
   "source": [
    "def lapNewton(x, y, y_, index, epsi):\n",
    "    #index chỉ số của mốc bên phải y_ là yk+1: y_nằm giữa 2 mốc yk và yk+1\n",
    "    soLanLap = 1\n",
    "    if index + 1 >= len(x) - index + 1:\n",
    "        # Sử dụng newton lùi\n",
    "        n_used = min(index + 1, 7)\n",
    "        x_used = x[index + 1 - n_used:index + 1]\n",
    "        y_used = y[index + 1 - n_used:index + 1]\n",
    "        a = ns_NewtonLui(x_used, y_used)\n",
    "\n",
    "        # Tìm hệ số của hàm phi theo đa thức nội suy\n",
    "        laplaY = y_used[len(y_used) - 1] - y_used[len(y_used) - 2]\n",
    "        for i in range(len(a) - 2):\n",
    "            a[i] = -a[i]/laplaY\n",
    "        a[len(a) - 2] = -(a[len(a) - 2] - laplaY)/laplaY\n",
    "        a[len(a) - 1] = (y_ - y_used[len(y_used) - 1])/laplaY\n",
    "\n",
    "        t0 = (y_ - y_used[len(y_used) - 1])/(y_used[len(y_used) - 1] - y_used[len(y_used) - 2])\n",
    "        t1 = hoocnerChia(a, t0).pop()\n",
    "        while (abs(t1 - t0)/abs(t1) >= epsi):\n",
    "            t0 = t1\n",
    "            t1 = hoocnerChia(a, t0).pop()\n",
    "            soLanLap += 1\n",
    "        return [t1 * (x[1] - x[0]) + x_used[len(x_used) - 1], soLanLap, 0]\n",
    "    else:\n",
    "        # Sử dụng newton tiến\n",
    "        n_used = min(len(x) - index + 1, 7)\n",
    "        x_used = x[index - 1:index + n_used - 1]\n",
    "        y_used = y[index - 1:index + n_used - 1]\n",
    "        a = ns_NewtonTien(x_used, y_used)\n",
    "\n",
    "        # tìm hệ số của đa thức phi(t) dựa vào đa thức nội suy newton\n",
    "        deltaY = y_used[1] - y_used[0]\n",
    "        for i in range(len(a) - 2):\n",
    "            a[i] = -a[i]/deltaY\n",
    "        a[len(a) - 2] = -(a[len(a) - 2] - deltaY)/deltaY\n",
    "        a[len(a) - 1] = (y_ - y_used[0])/deltaY\n",
    "\n",
    "        t0 = (y_ - y_used[0])/deltaY\n",
    "        t1 = hoocnerChia(a, t0).pop()\n",
    "        while (abs(t1 - t0)/abs(t1) >= epsi):\n",
    "            t0 = t1\n",
    "            t1 = hoocnerChia(a, t0).pop()\n",
    "            soLanLap += 1\n",
    "        return [t1 * (x[1] - x[0]) + x_used[0], soLanLap, 1]"
   ]
  },
  {
   "cell_type": "markdown",
   "metadata": {},
   "source": [
    "# Nội suy ngược"
   ]
  },
  {
   "cell_type": "code",
   "execution_count": 22,
   "metadata": {},
   "outputs": [],
   "source": [
    "def noiSuyNguoc(x, y, y_, epsi = 1e-10):\n",
    "    solutionsIntervals = cacKhoangDonDieuChuaNghiem(x, y, y_)\n",
    "    solutions = []\n",
    "    for i in solutionsIntervals:\n",
    "        # Tìm vị trí của mốc bên phải y_: yk+1\n",
    "        for j in range(len(i[1]) - 1):\n",
    "                if (i[1][j] - y_)*(i[1][j + 1] - y_) < 0:\n",
    "                    index = j + 1\n",
    "\n",
    "        # Phương pháp hàm ngược thì chọn 5 mốc cạnh yk+1\n",
    "        if len(i[1]) >= 5:\n",
    "            if index >= 5:\n",
    "                x_used = i[0][index - 4:index + 1]\n",
    "                y_used = i[1][index - 4:index + 1]\n",
    "            else:\n",
    "                x_used = i[0][0:5]\n",
    "                y_used = i[1][0:5]\n",
    "            root = hamNguoc(x_used, y_used, y_)\n",
    "            solutions.append(root)\n",
    "            print(\"Phuong phap su dung: ham nguoc\")\n",
    "            print(\"Voi khoang chua nghiem: \\nx = {0}\\ny = {1}\\nCo nghiem la: {2}\".format(x_used, y_used, root))\n",
    "\n",
    "        # Phương pháp lặp thì chọn min(7, số mốc có thể sử dụng)\n",
    "        else:\n",
    "            indexInData = i[index][0]\n",
    "            result = lapNewton(x, y, y_, indexInData, epsi)\n",
    "            solutions.append(result[0])\n",
    "            if result[2] == 0:\n",
    "                print(\"Phuong phap su dung: lap Newton lui\")\n",
    "            else:\n",
    "                print(\"Phuong phap su dung: lap Newton tien\")\n",
    "            print(\"Nghiem la: {0}\\nSo lan lap: {1}\".format(result[0], result[1]))\n",
    "    return solutions"
   ]
  },
  {
   "cell_type": "markdown",
   "metadata": {},
   "source": [
    "# Sử dụng chương trình"
   ]
  },
  {
   "cell_type": "code",
   "execution_count": 23,
   "metadata": {},
   "outputs": [
    {
     "name": "stdout",
     "output_type": "stream",
     "text": [
      "Phuong phap su dung: ham nguoc\n",
      "Voi khoang chua nghiem: \n",
      "x = [1, 2, 3, 4, 5]\n",
      "y = [2.72, 7.39, 20.09, 54.6, 148.41]\n",
      "Co nghiem la: 2.627619703311025\n"
     ]
    },
    {
     "data": {
      "text/plain": [
       "[2.627619703311025]"
      ]
     },
     "execution_count": 23,
     "metadata": {},
     "output_type": "execute_result"
    }
   ],
   "source": [
    "# Hàm test: y = x + 1\n",
    "x = [1,2,3,4,5,6,7]\n",
    "y = [2.72,7.39,20.09,54.6,148.41,403.43,1096.63]\n",
    "\n",
    "# Giá trị y_ = f(x_): tìm nghiệm x_ để f(x_) = y_\n",
    "y_ = 12.34\n",
    "solutions = noiSuyNguoc(x, y, y_)\n",
    "solutions"
   ]
  },
  {
   "cell_type": "code",
   "execution_count": 24,
   "metadata": {
    "scrolled": true
   },
   "outputs": [
    {
     "name": "stdout",
     "output_type": "stream",
     "text": [
      "Phuong phap su dung: ham nguoc\n",
      "Voi khoang chua nghiem: \n",
      "x = [1.2  1.25 1.3  1.35 1.4 ]\n",
      "y = [0.91817 0.9064  0.89747 0.89115 0.88726]\n",
      "Co nghiem la: 1.3626703876070678\n"
     ]
    },
    {
     "ename": "IndexError",
     "evalue": "list index out of range",
     "output_type": "error",
     "traceback": [
      "\u001b[1;31m---------------------------------------------------------------------------\u001b[0m",
      "\u001b[1;31mIndexError\u001b[0m                                Traceback (most recent call last)",
      "Cell \u001b[1;32mIn[24], line 5\u001b[0m\n\u001b[0;32m      3\u001b[0m \u001b[39m# Giá trị y_ = f(x_): tìm nghiệm x_ để f(x_) = y_\u001b[39;00m\n\u001b[0;32m      4\u001b[0m y_ \u001b[39m=\u001b[39m \u001b[39m0.89\u001b[39m\n\u001b[1;32m----> 5\u001b[0m solutions \u001b[39m=\u001b[39m noiSuyNguoc(x, y, y_)\n\u001b[0;32m      6\u001b[0m solutions\n",
      "Cell \u001b[1;32mIn[22], line 25\u001b[0m, in \u001b[0;36mnoiSuyNguoc\u001b[1;34m(x, y, y_, epsi)\u001b[0m\n\u001b[0;32m     21\u001b[0m     \u001b[39mprint\u001b[39m(\u001b[39m\"\u001b[39m\u001b[39mVoi khoang chua nghiem: \u001b[39m\u001b[39m\\n\u001b[39;00m\u001b[39mx = \u001b[39m\u001b[39m{0}\u001b[39;00m\u001b[39m\\n\u001b[39;00m\u001b[39my = \u001b[39m\u001b[39m{1}\u001b[39;00m\u001b[39m\\n\u001b[39;00m\u001b[39mCo nghiem la: \u001b[39m\u001b[39m{2}\u001b[39;00m\u001b[39m\"\u001b[39m\u001b[39m.\u001b[39mformat(x_used, y_used, root))\n\u001b[0;32m     23\u001b[0m \u001b[39m# Phương pháp lặp thì chọn min(7, số mốc có thể sử dụng)\u001b[39;00m\n\u001b[0;32m     24\u001b[0m \u001b[39melse\u001b[39;00m:\n\u001b[1;32m---> 25\u001b[0m     indexInData \u001b[39m=\u001b[39m i[index][\u001b[39m0\u001b[39m]\n\u001b[0;32m     26\u001b[0m     \u001b[39mprint\u001b[39m(indexInData)\n\u001b[0;32m     27\u001b[0m     result \u001b[39m=\u001b[39m lapNewton(x, y, y_, indexInData, epsi)\n",
      "\u001b[1;31mIndexError\u001b[0m: list index out of range"
     ]
    }
   ],
   "source": [
    "x, y = doc_input(\"input.txt\")\n",
    "\n",
    "# Giá trị y_ = f(x_): tìm nghiệm x_ để f(x_) = y_\n",
    "y_ = 12.34\n",
    "solutions = noiSuyNguoc(x, y, y_)\n",
    "solutions"
   ]
  }
 ],
 "metadata": {
  "kernelspec": {
   "display_name": "Python 3",
   "language": "python",
   "name": "python3"
  },
  "language_info": {
   "codemirror_mode": {
    "name": "ipython",
    "version": 3
   },
   "file_extension": ".py",
   "mimetype": "text/x-python",
   "name": "python",
   "nbconvert_exporter": "python",
   "pygments_lexer": "ipython3",
   "version": "3.10.5"
  },
  "vscode": {
   "interpreter": {
    "hash": "a42ccb73e7d9bfdf27e036f1d2b8b681e55fc0743cc5586bc2474d4a60f4b886"
   }
  }
 },
 "nbformat": 4,
 "nbformat_minor": 2
}
